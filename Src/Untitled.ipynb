{
 "cells": [
  {
   "cell_type": "code",
   "execution_count": 2,
   "id": "neural-reward",
   "metadata": {},
   "outputs": [],
   "source": [
    "# !pip list\n",
    "# !jupyter kernelspec list"
   ]
  },
  {
   "cell_type": "code",
   "execution_count": 9,
   "id": "settled-violin",
   "metadata": {},
   "outputs": [],
   "source": [
    "model = Sequential()\n",
    "model.add(ResNet50(include_top=False, pooling='avg', weights='imagenet'))"
   ]
  },
  {
   "cell_type": "code",
   "execution_count": 6,
   "id": "rational-cooperation",
   "metadata": {},
   "outputs": [],
   "source": [
    "# import numpy as np\n",
    "# import os\n",
    "# from sklearn.model_selection import train_test_split\n",
    "# from tensorflow.keras.applications.resnet50 import ResNet50\n",
    "# from tensorflow.keras.models import Sequential\n",
    "# from tensorflow.keras.layers import Dense, Flatten, GlobalAveragePooling2D\n",
    "# from tensorflow.keras.applications.resnet50 import preprocess_input\n",
    "# from tensorflow.keras.preprocessing.image import ImageDataGenerator"
   ]
  },
  {
   "cell_type": "code",
   "execution_count": 1,
   "id": "resident-snapshot",
   "metadata": {},
   "outputs": [
    {
     "name": "stderr",
     "output_type": "stream",
     "text": [
      "C:\\Apps\\anaconda3\\envs\\usabcheckEnv2\\lib\\site-packages\\requests\\__init__.py:89: RequestsDependencyWarning: urllib3 (1.26.3) or chardet (2.0.3) doesn't match a supported version!\n",
      "  RequestsDependencyWarning)\n"
     ]
    }
   ],
   "source": [
    "import tensorflow as tf\n",
    "import cv2 \n",
    "import numpy as np\n",
    "config = tf.compat.v1.ConfigProto()\n",
    "config.gpu_options.allow_growth = True\n",
    "sess = tf.compat.v1.Session(config=config)\n",
    "\n",
    "from tensorflow.keras.models import load_model, model_from_json"
   ]
  },
  {
   "cell_type": "code",
   "execution_count": 3,
   "id": "following-heart",
   "metadata": {},
   "outputs": [
    {
     "ename": "NameError",
     "evalue": "name 'img_to_array' is not defined",
     "output_type": "error",
     "traceback": [
      "\u001b[1;31m---------------------------------------------------------------------------\u001b[0m",
      "\u001b[1;31mNameError\u001b[0m                                 Traceback (most recent call last)",
      "\u001b[1;32m<ipython-input-3-c7f9fc9f70f1>\u001b[0m in \u001b[0;36m<module>\u001b[1;34m()\u001b[0m\n\u001b[0;32m     36\u001b[0m         \u001b[1;32mif\u001b[0m \u001b[0mnp\u001b[0m\u001b[1;33m.\u001b[0m\u001b[0msum\u001b[0m\u001b[1;33m(\u001b[0m\u001b[1;33m[\u001b[0m\u001b[0mcroppedFace\u001b[0m\u001b[1;33m]\u001b[0m\u001b[1;33m)\u001b[0m \u001b[1;33m!=\u001b[0m \u001b[1;36m0\u001b[0m\u001b[1;33m:\u001b[0m\u001b[1;33m\u001b[0m\u001b[1;33m\u001b[0m\u001b[0m\n\u001b[0;32m     37\u001b[0m             \u001b[0mroi\u001b[0m \u001b[1;33m=\u001b[0m \u001b[0mcroppedFace\u001b[0m\u001b[1;33m.\u001b[0m\u001b[0mastype\u001b[0m\u001b[1;33m(\u001b[0m\u001b[1;34m'float'\u001b[0m\u001b[1;33m)\u001b[0m\u001b[1;33m/\u001b[0m\u001b[1;36m255.0\u001b[0m\u001b[1;33m\u001b[0m\u001b[1;33m\u001b[0m\u001b[0m\n\u001b[1;32m---> 38\u001b[1;33m             \u001b[0mroi\u001b[0m \u001b[1;33m=\u001b[0m \u001b[0mimg_to_array\u001b[0m\u001b[1;33m(\u001b[0m\u001b[0mroi\u001b[0m\u001b[1;33m)\u001b[0m\u001b[1;33m\u001b[0m\u001b[1;33m\u001b[0m\u001b[0m\n\u001b[0m\u001b[0;32m     39\u001b[0m             \u001b[0mroi\u001b[0m \u001b[1;33m=\u001b[0m \u001b[0mnp\u001b[0m\u001b[1;33m.\u001b[0m\u001b[0mexpand_dims\u001b[0m\u001b[1;33m(\u001b[0m\u001b[0mroi\u001b[0m\u001b[1;33m,\u001b[0m\u001b[0maxis\u001b[0m\u001b[1;33m=\u001b[0m\u001b[1;36m0\u001b[0m\u001b[1;33m)\u001b[0m\u001b[1;33m\u001b[0m\u001b[1;33m\u001b[0m\u001b[0m\n\u001b[0;32m     40\u001b[0m \u001b[1;33m\u001b[0m\u001b[0m\n",
      "\u001b[1;31mNameError\u001b[0m: name 'img_to_array' is not defined"
     ]
    }
   ],
   "source": [
    "selectedModel = \"Model 1\"\n",
    "\n",
    "if selectedModel == \"Model 1\":\n",
    "    classifier = load_model(r'Model1.h5')\n",
    "    labels = [\"Angry\", \"Disgust\", \"Fear\", \"Happy\", \"Neutral\", \"Sad\", \"Surprise\"]\n",
    "    \n",
    "elif selectedModel == \"Model 2\":\n",
    "    classifier = model_from_json(open(\"Model2.json\", \"r\").read())\n",
    "    classifier.load_weights('Model2_Weights.h5')\n",
    "    labels = [\"Angry\", \"Disgust\", \"Fear\", \"Happy\", \"Sad\", \"Surprise\", \"Neutral\"]\n",
    "else:\n",
    "    raise \"No existing model selected\"\n",
    "\n",
    "\n",
    "faceDetector = cv2.CascadeClassifier(r'haarcascade_frontalface_default.xml')\n",
    "\n",
    "cap = cv2.VideoCapture(0)\n",
    "\n",
    "while True:\n",
    "    # Get frame from camera\n",
    "    ret, frame = cap.read()\n",
    "    # Convert to grayscale\n",
    "    gray = cv2.cvtColor(frame,cv2.COLOR_BGR2GRAY)\n",
    "    # Detect the face\n",
    "    faces = faceDetector.detectMultiScale(gray, 1.3, 5)\n",
    "    \n",
    "    # Iterate over the faces (bounding boxes)\n",
    "    for (x, y, w, h) in faces:\n",
    "        # Draw the rectangle bounding box of face\n",
    "        cv2.rectangle(frame, (x,y), (x+w, y+h),(255,0,0), 2)\n",
    "        croppedFace = gray[y:y+h, x:x+w]\n",
    "        # Resize the face to the size the classifier expects (48 x 48)\n",
    "        croppedFace = cv2.resize(croppedFace, (48,48), interpolation=cv2.INTER_AREA)\n",
    "\n",
    "        # If a face has been detected and the image has pixel values\n",
    "        if np.sum([croppedFace]) != 0:\n",
    "            roi = croppedFace.astype('float')/255.0\n",
    "            roi = img_to_array(roi)\n",
    "            roi = np.expand_dims(roi,axis=0)\n",
    "\n",
    "            preds = classifier.predict(roi)[0]\n",
    "            label=labels[preds.argmax()]\n",
    "            label_position = (20,60)\n",
    "\n",
    "            cv2.putText(img=frame, text=label, org=label_position,\n",
    "                fontFace=cv2.FONT_HERSHEY_COMPLEX , fontScale=2, color=[255, 0, 0], lineType=cv2.LINE_AA, thickness=3)\n",
    "        else:\n",
    "            cv2.putText(frame,'No Face Detected',(20,60),cv2.FONT_HERSHEY_SIMPLEX,2,(0,255,0),2)\n",
    "            \n",
    "    cv2.imshow('Facial Expression Detector', frame)\n",
    "    \n",
    "    # If the q letter is pressed then exit the program\n",
    "    if cv2.waitKey(1) & 0xFF == ord('q'):\n",
    "        break\n",
    "\n",
    "cap.release()\n",
    "cv2.destroyAllWindows()"
   ]
  },
  {
   "cell_type": "code",
   "execution_count": null,
   "id": "hourly-conservation",
   "metadata": {},
   "outputs": [],
   "source": []
  }
 ],
 "metadata": {
  "kernelspec": {
   "display_name": "Python 3",
   "language": "python",
   "name": "python3"
  },
  "language_info": {
   "codemirror_mode": {
    "name": "ipython",
    "version": 3
   },
   "file_extension": ".py",
   "mimetype": "text/x-python",
   "name": "python",
   "nbconvert_exporter": "python",
   "pygments_lexer": "ipython3",
   "version": "3.6.12"
  }
 },
 "nbformat": 4,
 "nbformat_minor": 5
}
