{
 "cells": [
  {
   "cell_type": "markdown",
   "metadata": {},
   "source": [
    "### The code below converts the image values in the FER2013 dataset to images and splits them into folders"
   ]
  },
  {
   "cell_type": "code",
   "execution_count": 4,
   "metadata": {},
   "outputs": [],
   "source": [
    "import pandas as pd\n",
    "import numpy as np\n",
    "import cv2 \n",
    "import matplotlib.pyplot as plt"
   ]
  },
  {
   "cell_type": "code",
   "execution_count": 5,
   "metadata": {},
   "outputs": [],
   "source": [
    "# Maps the emotion label to the name so that it can be saved into the correct directory\n",
    "emotionsDict = {\n",
    "    0: \"Angry\",\n",
    "    1: \"Disgust\",\n",
    "    2: \"Fear\",\n",
    "    3: \"Happy\",\n",
    "    4: \"Sad\",\n",
    "    5: \"Surprise\",\n",
    "    6: \"Neutral\"\n",
    "}\n",
    "\n",
    "datasetFolder = \"C:/Users/New User/Desktop/Fourth Year/Usability_Testing_FYP/Datasets/FER2013\"\n",
    "datasetCSV = datasetFolder + \"/fer2013.csv\"\n",
    "imageFolder = datasetFolder + \"/Images\"\n",
    "\n",
    "dataFrame = pd.read_csv(datasetCSV)"
   ]
  },
  {
   "cell_type": "code",
   "execution_count": 6,
   "metadata": {},
   "outputs": [
    {
     "name": "stdout",
     "output_type": "stream",
     "text": [
      "       emotion                                             pixels        Usage\n",
      "0            0  70 80 82 72 58 58 60 63 54 58 60 48 89 115 121...     Training\n",
      "1            0  151 150 147 155 148 133 111 140 170 174 182 15...     Training\n",
      "2            2  231 212 156 164 174 138 161 173 182 200 106 38...     Training\n",
      "3            4  24 32 36 30 32 23 19 20 30 41 21 22 32 34 21 1...     Training\n",
      "4            6  4 0 0 0 0 0 0 0 0 0 0 0 3 15 23 28 48 50 58 84...     Training\n",
      "...        ...                                                ...          ...\n",
      "35882        6  50 36 17 22 23 29 33 39 34 37 37 37 39 43 48 5...  PrivateTest\n",
      "35883        3  178 174 172 173 181 188 191 194 196 199 200 20...  PrivateTest\n",
      "35884        0  17 17 16 23 28 22 19 17 25 26 20 24 31 19 27 9...  PrivateTest\n",
      "35885        3  30 28 28 29 31 30 42 68 79 81 77 67 67 71 63 6...  PrivateTest\n",
      "35886        2  19 13 14 12 13 16 21 33 50 57 71 84 97 108 122...  PrivateTest\n",
      "\n",
      "[35887 rows x 3 columns]\n"
     ]
    },
    {
     "data": {
      "image/png": "[encoded data removed]",
      "text/plain": [
       "<Figure size 1600x1600 with 1 Axes>"
      ]
     },
     "metadata": {},
     "output_type": "display_data"
    }
   ],
   "source": [
    "imageFormed = None\n",
    "for index, row in dataFrame.iterrows():\n",
    "    emotionNum = row['emotion']\n",
    "    imagePixels = row['pixels']\n",
    "    usage = row['Usage']\n",
    "\n",
    "    width, height = 48, 48\n",
    "    imageFormed = np.fromstring(imagePixels, dtype=int, sep=\" \").reshape((height, width))\n",
    "    \n",
    "    outFilePath = imageFolder +\"/\"+ usage +\"/\"+ emotionsDict[emotionNum]  +\"/\"+ str(index)+\".jpg\"\n",
    "    cv2.imwrite(outFilePath, imageFormed)\n",
    "    \n",
    "#     print(outFilePath)\n",
    "    \n",
    "print(dataFrame)\n",
    "\n",
    "# Dispay an image\n",
    "fig = plt.figure(num=None, figsize=(20, 20), dpi=80, facecolor='w', edgecolor='k')\n",
    "plt.rc('font', size=8)\n",
    "\n",
    "fig.add_subplot(9, 2, 1)\n",
    "plt.title(\"Image\")\n",
    "plt.set_cmap('gray')\n",
    "plt.imshow(imageFormed);"
   ]
  },
  {
   "cell_type": "code",
   "execution_count": null,
   "metadata": {},
   "outputs": [],
   "source": []
  }
 ],
 "metadata": {
  "kernelspec": {
   "display_name": "Python 3",
   "language": "python",
   "name": "python3"
  },
  "language_info": {
   "codemirror_mode": {
    "name": "ipython",
    "version": 3
   },
   "file_extension": ".py",
   "mimetype": "text/x-python",
   "name": "python",
   "nbconvert_exporter": "python",
   "pygments_lexer": "ipython3",
   "version": "3.6.12"
  }
 },
 "nbformat": 4,
 "nbformat_minor": 4
}
